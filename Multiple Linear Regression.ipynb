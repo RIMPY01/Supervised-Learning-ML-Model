{
 "cells": [
  {
   "cell_type": "markdown",
   "id": "8c16e785",
   "metadata": {},
   "source": [
    "## Part 1: Exploratory Analysis and Visualization"
   ]
  },
  {
   "cell_type": "code",
   "execution_count": null,
   "id": "e7005093",
   "metadata": {},
   "outputs": [],
   "source": [
    "Rimpy Khokhar(50455431)\n",
    "Saloni Goyal(50471481)\n",
    "Dipanshu Maheshwari(50455446)"
   ]
  },
  {
   "cell_type": "code",
   "execution_count": 89,
   "id": "255ac493",
   "metadata": {},
   "outputs": [],
   "source": [
    "import numpy as np\n",
    "import pandas as pd"
   ]
  },
  {
   "cell_type": "code",
   "execution_count": 55,
   "id": "d293e163",
   "metadata": {},
   "outputs": [],
   "source": [
    "# read in data file\n",
    "\n",
    "homes_df = pd.read_csv('WestRoxbury_unprocessed.csv')"
   ]
  },
  {
   "cell_type": "markdown",
   "id": "83e1d2ec",
   "metadata": {},
   "source": [
    "### Basic Exploratory Analysis"
   ]
  },
  {
   "cell_type": "code",
   "execution_count": 56,
   "id": "66d5bcb2",
   "metadata": {},
   "outputs": [
    {
     "name": "stdout",
     "output_type": "stream",
     "text": [
      "TOTAL_VALUE    float64\n",
      "LOT_SQFT       float64\n",
      "YR_BUILT         int64\n",
      "LIVING_AREA    float64\n",
      "FLOORS         float64\n",
      "ROOMS            int64\n",
      "BEDROOMS         int64\n",
      "FULL_BATH        int64\n",
      "HALF_BATH        int64\n",
      "KITCHEN          int64\n",
      "FIREPLACE        int64\n",
      "REMODEL         object\n",
      "dtype: object\n"
     ]
    }
   ],
   "source": [
    "# print the data types of each column\n",
    "print(homes_df.dtypes)"
   ]
  },
  {
   "cell_type": "code",
   "execution_count": 57,
   "id": "0fccb362",
   "metadata": {},
   "outputs": [
    {
     "name": "stdout",
     "output_type": "stream",
     "text": [
      "(5802, 12)\n",
      "5802\n",
      "12\n"
     ]
    },
    {
     "data": {
      "text/html": [
       "<div>\n",
       "<style scoped>\n",
       "    .dataframe tbody tr th:only-of-type {\n",
       "        vertical-align: middle;\n",
       "    }\n",
       "\n",
       "    .dataframe tbody tr th {\n",
       "        vertical-align: top;\n",
       "    }\n",
       "\n",
       "    .dataframe thead th {\n",
       "        text-align: right;\n",
       "    }\n",
       "</style>\n",
       "<table border=\"1\" class=\"dataframe\">\n",
       "  <thead>\n",
       "    <tr style=\"text-align: right;\">\n",
       "      <th></th>\n",
       "      <th>TOTAL_VALUE</th>\n",
       "      <th>LOT_SQFT</th>\n",
       "      <th>YR_BUILT</th>\n",
       "      <th>LIVING_AREA</th>\n",
       "      <th>FLOORS</th>\n",
       "      <th>ROOMS</th>\n",
       "      <th>BEDROOMS</th>\n",
       "      <th>FULL_BATH</th>\n",
       "      <th>HALF_BATH</th>\n",
       "      <th>KITCHEN</th>\n",
       "      <th>FIREPLACE</th>\n",
       "      <th>REMODEL</th>\n",
       "    </tr>\n",
       "  </thead>\n",
       "  <tbody>\n",
       "    <tr>\n",
       "      <th>0</th>\n",
       "      <td>344.2</td>\n",
       "      <td>9965.0</td>\n",
       "      <td>1880</td>\n",
       "      <td>1352.0</td>\n",
       "      <td>2.0</td>\n",
       "      <td>6</td>\n",
       "      <td>3</td>\n",
       "      <td>1</td>\n",
       "      <td>1</td>\n",
       "      <td>1</td>\n",
       "      <td>0</td>\n",
       "      <td>None</td>\n",
       "    </tr>\n",
       "    <tr>\n",
       "      <th>1</th>\n",
       "      <td>412.6</td>\n",
       "      <td>6590.0</td>\n",
       "      <td>1945</td>\n",
       "      <td>1976.0</td>\n",
       "      <td>2.0</td>\n",
       "      <td>10</td>\n",
       "      <td>4</td>\n",
       "      <td>2</td>\n",
       "      <td>1</td>\n",
       "      <td>1</td>\n",
       "      <td>0</td>\n",
       "      <td>Recent</td>\n",
       "    </tr>\n",
       "    <tr>\n",
       "      <th>2</th>\n",
       "      <td>330.1</td>\n",
       "      <td>7500.0</td>\n",
       "      <td>1890</td>\n",
       "      <td>1371.0</td>\n",
       "      <td>2.0</td>\n",
       "      <td>8</td>\n",
       "      <td>4</td>\n",
       "      <td>1</td>\n",
       "      <td>1</td>\n",
       "      <td>1</td>\n",
       "      <td>0</td>\n",
       "      <td>None</td>\n",
       "    </tr>\n",
       "    <tr>\n",
       "      <th>3</th>\n",
       "      <td>498.6</td>\n",
       "      <td>13773.0</td>\n",
       "      <td>1957</td>\n",
       "      <td>2608.0</td>\n",
       "      <td>1.0</td>\n",
       "      <td>9</td>\n",
       "      <td>5</td>\n",
       "      <td>1</td>\n",
       "      <td>1</td>\n",
       "      <td>1</td>\n",
       "      <td>1</td>\n",
       "      <td>None</td>\n",
       "    </tr>\n",
       "    <tr>\n",
       "      <th>4</th>\n",
       "      <td>331.5</td>\n",
       "      <td>5000.0</td>\n",
       "      <td>1910</td>\n",
       "      <td>1438.0</td>\n",
       "      <td>2.0</td>\n",
       "      <td>7</td>\n",
       "      <td>3</td>\n",
       "      <td>2</td>\n",
       "      <td>0</td>\n",
       "      <td>1</td>\n",
       "      <td>0</td>\n",
       "      <td>None</td>\n",
       "    </tr>\n",
       "  </tbody>\n",
       "</table>\n",
       "</div>"
      ],
      "text/plain": [
       "   TOTAL_VALUE  LOT_SQFT  YR_BUILT  LIVING_AREA  FLOORS  ROOMS  BEDROOMS  \\\n",
       "0        344.2    9965.0      1880       1352.0     2.0      6         3   \n",
       "1        412.6    6590.0      1945       1976.0     2.0     10         4   \n",
       "2        330.1    7500.0      1890       1371.0     2.0      8         4   \n",
       "3        498.6   13773.0      1957       2608.0     1.0      9         5   \n",
       "4        331.5    5000.0      1910       1438.0     2.0      7         3   \n",
       "\n",
       "   FULL_BATH  HALF_BATH  KITCHEN  FIREPLACE REMODEL  \n",
       "0          1          1        1          0    None  \n",
       "1          2          1        1          0  Recent  \n",
       "2          1          1        1          0    None  \n",
       "3          1          1        1          1    None  \n",
       "4          2          0        1          0    None  "
      ]
     },
     "execution_count": 57,
     "metadata": {},
     "output_type": "execute_result"
    }
   ],
   "source": [
    "# print the shape of the dataframe\n",
    "print(homes_df.shape)\n",
    "print(len(homes_df))\n",
    "print(len(homes_df.columns))\n",
    "homes_df.head() #we used this command to get the idea about columns in an excel file\n"
   ]
  },
  {
   "cell_type": "code",
   "execution_count": 58,
   "id": "ed9ea8db",
   "metadata": {},
   "outputs": [
    {
     "name": "stdout",
     "output_type": "stream",
     "text": [
      "1\n"
     ]
    },
    {
     "data": {
      "text/plain": [
       "TOTAL_VALUE    0\n",
       "LOT_SQFT       1\n",
       "YR_BUILT       0\n",
       "LIVING_AREA    2\n",
       "FLOORS         0\n",
       "ROOMS          0\n",
       "BEDROOMS       0\n",
       "FULL_BATH      0\n",
       "HALF_BATH      0\n",
       "KITCHEN        0\n",
       "FIREPLACE      0\n",
       "REMODEL        0\n",
       "dtype: int64"
      ]
     },
     "execution_count": 58,
     "metadata": {},
     "output_type": "execute_result"
    }
   ],
   "source": [
    "# check for null values\n",
    "print(homes_df['LOT_SQFT'].isnull().sum()) #We were trying to find out null values in particular column\n",
    "homes_df.isnull().sum()"
   ]
  },
  {
   "cell_type": "code",
   "execution_count": 59,
   "id": "cae2768e",
   "metadata": {},
   "outputs": [
    {
     "name": "stdout",
     "output_type": "stream",
     "text": [
      "None      4346\n",
      "Recent     875\n",
      "Old        581\n",
      "Name: REMODEL, dtype: int64\n"
     ]
    },
    {
     "data": {
      "text/plain": [
       "dtype('O')"
      ]
     },
     "execution_count": 59,
     "metadata": {},
     "output_type": "execute_result"
    }
   ],
   "source": [
    "# look at each category in \"REMODEL\"\n",
    "print(homes_df['REMODEL'].value_counts())\n",
    "homes_df['REMODEL'].dtype"
   ]
  },
  {
   "cell_type": "code",
   "execution_count": 60,
   "id": "04aea2e6",
   "metadata": {},
   "outputs": [
    {
     "data": {
      "text/plain": [
       "7     1769\n",
       "6     1669\n",
       "8      936\n",
       "5      578\n",
       "9      450\n",
       "10     200\n",
       "4       71\n",
       "11      66\n",
       "12      45\n",
       "13      10\n",
       "14       5\n",
       "3        3\n",
       "Name: ROOMS, dtype: int64"
      ]
     },
     "execution_count": 60,
     "metadata": {},
     "output_type": "execute_result"
    }
   ],
   "source": [
    "# look at the frequency of occurence in the \"ROOMS\" column\n",
    "homes_df['ROOMS'].value_counts()"
   ]
  },
  {
   "cell_type": "code",
   "execution_count": 61,
   "id": "30f0c1db",
   "metadata": {},
   "outputs": [
    {
     "name": "stdout",
     "output_type": "stream",
     "text": [
      "10\n"
     ]
    },
    {
     "data": {
      "text/html": [
       "<div>\n",
       "<style scoped>\n",
       "    .dataframe tbody tr th:only-of-type {\n",
       "        vertical-align: middle;\n",
       "    }\n",
       "\n",
       "    .dataframe tbody tr th {\n",
       "        vertical-align: top;\n",
       "    }\n",
       "\n",
       "    .dataframe thead th {\n",
       "        text-align: right;\n",
       "    }\n",
       "</style>\n",
       "<table border=\"1\" class=\"dataframe\">\n",
       "  <thead>\n",
       "    <tr style=\"text-align: right;\">\n",
       "      <th></th>\n",
       "      <th>LOT_SQFT</th>\n",
       "      <th>YR_BUILT</th>\n",
       "      <th>LIVING_AREA</th>\n",
       "      <th>FLOORS</th>\n",
       "      <th>ROOMS</th>\n",
       "      <th>BEDROOMS</th>\n",
       "      <th>FULL_BATH</th>\n",
       "      <th>HALF_BATH</th>\n",
       "      <th>KITCHEN</th>\n",
       "      <th>FIREPLACE</th>\n",
       "    </tr>\n",
       "  </thead>\n",
       "  <tbody>\n",
       "    <tr>\n",
       "      <th>LOT_SQFT</th>\n",
       "      <td>1.000000</td>\n",
       "      <td>-0.068903</td>\n",
       "      <td>0.426145</td>\n",
       "      <td>0.073640</td>\n",
       "      <td>0.308398</td>\n",
       "      <td>0.254094</td>\n",
       "      <td>0.201427</td>\n",
       "      <td>0.134947</td>\n",
       "      <td>0.044518</td>\n",
       "      <td>0.181910</td>\n",
       "    </tr>\n",
       "    <tr>\n",
       "      <th>YR_BUILT</th>\n",
       "      <td>-0.068903</td>\n",
       "      <td>1.000000</td>\n",
       "      <td>-0.131162</td>\n",
       "      <td>-0.190453</td>\n",
       "      <td>-0.144686</td>\n",
       "      <td>-0.130411</td>\n",
       "      <td>0.073706</td>\n",
       "      <td>0.060685</td>\n",
       "      <td>0.052091</td>\n",
       "      <td>0.087234</td>\n",
       "    </tr>\n",
       "    <tr>\n",
       "      <th>LIVING_AREA</th>\n",
       "      <td>0.426145</td>\n",
       "      <td>-0.131162</td>\n",
       "      <td>1.000000</td>\n",
       "      <td>0.475604</td>\n",
       "      <td>0.720688</td>\n",
       "      <td>0.641065</td>\n",
       "      <td>0.438143</td>\n",
       "      <td>0.300847</td>\n",
       "      <td>0.082799</td>\n",
       "      <td>0.261992</td>\n",
       "    </tr>\n",
       "    <tr>\n",
       "      <th>FLOORS</th>\n",
       "      <td>0.073640</td>\n",
       "      <td>-0.190453</td>\n",
       "      <td>0.475604</td>\n",
       "      <td>1.000000</td>\n",
       "      <td>0.432856</td>\n",
       "      <td>0.431242</td>\n",
       "      <td>0.112166</td>\n",
       "      <td>0.316142</td>\n",
       "      <td>-0.114602</td>\n",
       "      <td>0.120506</td>\n",
       "    </tr>\n",
       "    <tr>\n",
       "      <th>ROOMS</th>\n",
       "      <td>0.308398</td>\n",
       "      <td>-0.144686</td>\n",
       "      <td>0.720688</td>\n",
       "      <td>0.432856</td>\n",
       "      <td>1.000000</td>\n",
       "      <td>0.710693</td>\n",
       "      <td>0.378274</td>\n",
       "      <td>0.282655</td>\n",
       "      <td>0.129223</td>\n",
       "      <td>0.205223</td>\n",
       "    </tr>\n",
       "    <tr>\n",
       "      <th>BEDROOMS</th>\n",
       "      <td>0.254094</td>\n",
       "      <td>-0.130411</td>\n",
       "      <td>0.641065</td>\n",
       "      <td>0.431242</td>\n",
       "      <td>0.710693</td>\n",
       "      <td>1.000000</td>\n",
       "      <td>0.332620</td>\n",
       "      <td>0.256852</td>\n",
       "      <td>0.085353</td>\n",
       "      <td>0.164380</td>\n",
       "    </tr>\n",
       "    <tr>\n",
       "      <th>FULL_BATH</th>\n",
       "      <td>0.201427</td>\n",
       "      <td>0.073706</td>\n",
       "      <td>0.438143</td>\n",
       "      <td>0.112166</td>\n",
       "      <td>0.378274</td>\n",
       "      <td>0.332620</td>\n",
       "      <td>1.000000</td>\n",
       "      <td>-0.130628</td>\n",
       "      <td>0.146650</td>\n",
       "      <td>0.140160</td>\n",
       "    </tr>\n",
       "    <tr>\n",
       "      <th>HALF_BATH</th>\n",
       "      <td>0.134947</td>\n",
       "      <td>0.060685</td>\n",
       "      <td>0.300847</td>\n",
       "      <td>0.316142</td>\n",
       "      <td>0.282655</td>\n",
       "      <td>0.256852</td>\n",
       "      <td>-0.130628</td>\n",
       "      <td>1.000000</td>\n",
       "      <td>-0.020071</td>\n",
       "      <td>0.176234</td>\n",
       "    </tr>\n",
       "    <tr>\n",
       "      <th>KITCHEN</th>\n",
       "      <td>0.044518</td>\n",
       "      <td>0.052091</td>\n",
       "      <td>0.082799</td>\n",
       "      <td>-0.114602</td>\n",
       "      <td>0.129223</td>\n",
       "      <td>0.085353</td>\n",
       "      <td>0.146650</td>\n",
       "      <td>-0.020071</td>\n",
       "      <td>1.000000</td>\n",
       "      <td>-0.009562</td>\n",
       "    </tr>\n",
       "    <tr>\n",
       "      <th>FIREPLACE</th>\n",
       "      <td>0.181910</td>\n",
       "      <td>0.087234</td>\n",
       "      <td>0.261992</td>\n",
       "      <td>0.120506</td>\n",
       "      <td>0.205223</td>\n",
       "      <td>0.164380</td>\n",
       "      <td>0.140160</td>\n",
       "      <td>0.176234</td>\n",
       "      <td>-0.009562</td>\n",
       "      <td>1.000000</td>\n",
       "    </tr>\n",
       "  </tbody>\n",
       "</table>\n",
       "</div>"
      ],
      "text/plain": [
       "             LOT_SQFT  YR_BUILT  LIVING_AREA    FLOORS     ROOMS  BEDROOMS  \\\n",
       "LOT_SQFT     1.000000 -0.068903     0.426145  0.073640  0.308398  0.254094   \n",
       "YR_BUILT    -0.068903  1.000000    -0.131162 -0.190453 -0.144686 -0.130411   \n",
       "LIVING_AREA  0.426145 -0.131162     1.000000  0.475604  0.720688  0.641065   \n",
       "FLOORS       0.073640 -0.190453     0.475604  1.000000  0.432856  0.431242   \n",
       "ROOMS        0.308398 -0.144686     0.720688  0.432856  1.000000  0.710693   \n",
       "BEDROOMS     0.254094 -0.130411     0.641065  0.431242  0.710693  1.000000   \n",
       "FULL_BATH    0.201427  0.073706     0.438143  0.112166  0.378274  0.332620   \n",
       "HALF_BATH    0.134947  0.060685     0.300847  0.316142  0.282655  0.256852   \n",
       "KITCHEN      0.044518  0.052091     0.082799 -0.114602  0.129223  0.085353   \n",
       "FIREPLACE    0.181910  0.087234     0.261992  0.120506  0.205223  0.164380   \n",
       "\n",
       "             FULL_BATH  HALF_BATH   KITCHEN  FIREPLACE  \n",
       "LOT_SQFT      0.201427   0.134947  0.044518   0.181910  \n",
       "YR_BUILT      0.073706   0.060685  0.052091   0.087234  \n",
       "LIVING_AREA   0.438143   0.300847  0.082799   0.261992  \n",
       "FLOORS        0.112166   0.316142 -0.114602   0.120506  \n",
       "ROOMS         0.378274   0.282655  0.129223   0.205223  \n",
       "BEDROOMS      0.332620   0.256852  0.085353   0.164380  \n",
       "FULL_BATH     1.000000  -0.130628  0.146650   0.140160  \n",
       "HALF_BATH    -0.130628   1.000000 -0.020071   0.176234  \n",
       "KITCHEN       0.146650  -0.020071  1.000000  -0.009562  \n",
       "FIREPLACE     0.140160   0.176234 -0.009562   1.000000  "
      ]
     },
     "execution_count": 61,
     "metadata": {},
     "output_type": "execute_result"
    }
   ],
   "source": [
    "# look at the correlation between all of the predictors (be sure to only focus on the predictors, and not the target variable)\n",
    "predictors_df = homes_df[['LOT_SQFT', 'YR_BUILT', 'LIVING_AREA', 'FLOORS', 'ROOMS','BEDROOMS', 'FULL_BATH', 'HALF_BATH', \n",
    "              'KITCHEN', 'FIREPLACE','REMODEL']]\n",
    "response_df = homes_df['TOTAL_VALUE']\n",
    "print(len(predictors_df.corr())) #we can observe from the correlation table that 10 columns instead of 11. 'REMODEL' isn't considered as data type of 'REMODEL' is object\n",
    "predictors_df.corr()"
   ]
  },
  {
   "cell_type": "markdown",
   "id": "f6e4a379",
   "metadata": {},
   "source": [
    "### Data visualization"
   ]
  },
  {
   "cell_type": "code",
   "execution_count": 62,
   "id": "f65a71ee",
   "metadata": {},
   "outputs": [],
   "source": [
    "import matplotlib.pyplot as plt"
   ]
  },
  {
   "cell_type": "code",
   "execution_count": 63,
   "id": "1416e420",
   "metadata": {},
   "outputs": [],
   "source": [
    "%matplotlib inline"
   ]
  },
  {
   "cell_type": "code",
   "execution_count": 64,
   "id": "6c52c69e",
   "metadata": {},
   "outputs": [
    {
     "data": {
      "image/png": "[encoded data removed]",
      "text/plain": [
       "<Figure size 432x288 with 1 Axes>"
      ]
     },
     "metadata": {
      "needs_background": "light"
     },
     "output_type": "display_data"
    }
   ],
   "source": [
    "# plot LIVING_AREA vs. TOTAL_VALUE\n",
    "plt.scatter(homes_df['LIVING_AREA'],homes_df['TOTAL_VALUE'])  \n",
    "plt.xlabel(\"Total living area (Sq Feet)\")                                    \n",
    "plt.ylabel(\"Total value for property (in thousands of $)\")             \n",
    "plt.title(\"living area vs Total value of property\")\n",
    "plt.show()"
   ]
  },
  {
   "cell_type": "markdown",
   "id": "66d444ac",
   "metadata": {},
   "source": [
    "## Part 2: Data preprocessing"
   ]
  },
  {
   "cell_type": "markdown",
   "id": "b3a4ed70",
   "metadata": {},
   "source": [
    "#### Drop predictors (if you feel it's necessary)"
   ]
  },
  {
   "cell_type": "code",
   "execution_count": 65,
   "id": "b5afdcb9",
   "metadata": {},
   "outputs": [
    {
     "name": "stdout",
     "output_type": "stream",
     "text": [
      "1    5713\n",
      "2      89\n",
      "Name: KITCHEN, dtype: int64\n"
     ]
    },
    {
     "data": {
      "text/html": [
       "<div>\n",
       "<style scoped>\n",
       "    .dataframe tbody tr th:only-of-type {\n",
       "        vertical-align: middle;\n",
       "    }\n",
       "\n",
       "    .dataframe tbody tr th {\n",
       "        vertical-align: top;\n",
       "    }\n",
       "\n",
       "    .dataframe thead th {\n",
       "        text-align: right;\n",
       "    }\n",
       "</style>\n",
       "<table border=\"1\" class=\"dataframe\">\n",
       "  <thead>\n",
       "    <tr style=\"text-align: right;\">\n",
       "      <th></th>\n",
       "      <th>TOTAL_VALUE</th>\n",
       "      <th>LOT_SQFT</th>\n",
       "      <th>YR_BUILT</th>\n",
       "      <th>LIVING_AREA</th>\n",
       "      <th>FLOORS</th>\n",
       "      <th>ROOMS</th>\n",
       "      <th>BEDROOMS</th>\n",
       "      <th>FULL_BATH</th>\n",
       "      <th>HALF_BATH</th>\n",
       "      <th>FIREPLACE</th>\n",
       "      <th>REMODEL</th>\n",
       "    </tr>\n",
       "  </thead>\n",
       "  <tbody>\n",
       "    <tr>\n",
       "      <th>0</th>\n",
       "      <td>344.2</td>\n",
       "      <td>9965.0</td>\n",
       "      <td>1880</td>\n",
       "      <td>1352.0</td>\n",
       "      <td>2.0</td>\n",
       "      <td>6</td>\n",
       "      <td>3</td>\n",
       "      <td>1</td>\n",
       "      <td>1</td>\n",
       "      <td>0</td>\n",
       "      <td>None</td>\n",
       "    </tr>\n",
       "    <tr>\n",
       "      <th>1</th>\n",
       "      <td>412.6</td>\n",
       "      <td>6590.0</td>\n",
       "      <td>1945</td>\n",
       "      <td>1976.0</td>\n",
       "      <td>2.0</td>\n",
       "      <td>10</td>\n",
       "      <td>4</td>\n",
       "      <td>2</td>\n",
       "      <td>1</td>\n",
       "      <td>0</td>\n",
       "      <td>Recent</td>\n",
       "    </tr>\n",
       "    <tr>\n",
       "      <th>2</th>\n",
       "      <td>330.1</td>\n",
       "      <td>7500.0</td>\n",
       "      <td>1890</td>\n",
       "      <td>1371.0</td>\n",
       "      <td>2.0</td>\n",
       "      <td>8</td>\n",
       "      <td>4</td>\n",
       "      <td>1</td>\n",
       "      <td>1</td>\n",
       "      <td>0</td>\n",
       "      <td>None</td>\n",
       "    </tr>\n",
       "    <tr>\n",
       "      <th>3</th>\n",
       "      <td>498.6</td>\n",
       "      <td>13773.0</td>\n",
       "      <td>1957</td>\n",
       "      <td>2608.0</td>\n",
       "      <td>1.0</td>\n",
       "      <td>9</td>\n",
       "      <td>5</td>\n",
       "      <td>1</td>\n",
       "      <td>1</td>\n",
       "      <td>1</td>\n",
       "      <td>None</td>\n",
       "    </tr>\n",
       "    <tr>\n",
       "      <th>4</th>\n",
       "      <td>331.5</td>\n",
       "      <td>5000.0</td>\n",
       "      <td>1910</td>\n",
       "      <td>1438.0</td>\n",
       "      <td>2.0</td>\n",
       "      <td>7</td>\n",
       "      <td>3</td>\n",
       "      <td>2</td>\n",
       "      <td>0</td>\n",
       "      <td>0</td>\n",
       "      <td>None</td>\n",
       "    </tr>\n",
       "  </tbody>\n",
       "</table>\n",
       "</div>"
      ],
      "text/plain": [
       "   TOTAL_VALUE  LOT_SQFT  YR_BUILT  LIVING_AREA  FLOORS  ROOMS  BEDROOMS  \\\n",
       "0        344.2    9965.0      1880       1352.0     2.0      6         3   \n",
       "1        412.6    6590.0      1945       1976.0     2.0     10         4   \n",
       "2        330.1    7500.0      1890       1371.0     2.0      8         4   \n",
       "3        498.6   13773.0      1957       2608.0     1.0      9         5   \n",
       "4        331.5    5000.0      1910       1438.0     2.0      7         3   \n",
       "\n",
       "   FULL_BATH  HALF_BATH  FIREPLACE REMODEL  \n",
       "0          1          1          0    None  \n",
       "1          2          1          0  Recent  \n",
       "2          1          1          0    None  \n",
       "3          1          1          1    None  \n",
       "4          2          0          0    None  "
      ]
     },
     "execution_count": 65,
     "metadata": {},
     "output_type": "execute_result"
    }
   ],
   "source": [
    "print(homes_df['KITCHEN'].value_counts())\n",
    "homes_df2 = homes_df.drop(['KITCHEN'], axis = 1)\n",
    "homes_df2.head()\n"
   ]
  },
  {
   "cell_type": "markdown",
   "id": "f9bcf56e",
   "metadata": {},
   "source": [
    "#### Deal with NA values"
   ]
  },
  {
   "cell_type": "code",
   "execution_count": 66,
   "id": "64c64c45",
   "metadata": {},
   "outputs": [
    {
     "name": "stdout",
     "output_type": "stream",
     "text": [
      "(5799, 11)\n"
     ]
    },
    {
     "data": {
      "text/plain": [
       "TOTAL_VALUE    0\n",
       "LOT_SQFT       0\n",
       "YR_BUILT       0\n",
       "LIVING_AREA    0\n",
       "FLOORS         0\n",
       "ROOMS          0\n",
       "BEDROOMS       0\n",
       "FULL_BATH      0\n",
       "HALF_BATH      0\n",
       "FIREPLACE      0\n",
       "REMODEL        0\n",
       "dtype: int64"
      ]
     },
     "execution_count": 66,
     "metadata": {},
     "output_type": "execute_result"
    }
   ],
   "source": [
    "homes_df2 = homes_df2.dropna(axis = 0, how = 'any').reset_index(drop = True)\n",
    "print(homes_df2.shape)\n",
    "homes_df2.isnull().sum()\n",
    "# we only lost 3 observations that will not have a large impact on our model."
   ]
  },
  {
   "cell_type": "markdown",
   "id": "7d2c9a83",
   "metadata": {},
   "source": [
    "#### Deal with categorical variables"
   ]
  },
  {
   "cell_type": "code",
   "execution_count": 67,
   "id": "78110cb2",
   "metadata": {},
   "outputs": [
    {
     "name": "stdout",
     "output_type": "stream",
     "text": [
      "TOTAL_VALUE     float64\n",
      "LOT_SQFT        float64\n",
      "YR_BUILT          int64\n",
      "LIVING_AREA     float64\n",
      "FLOORS          float64\n",
      "ROOMS             int64\n",
      "BEDROOMS          int64\n",
      "FULL_BATH         int64\n",
      "HALF_BATH         int64\n",
      "FIREPLACE         int64\n",
      "REMODEL        category\n",
      "dtype: object\n",
      "(5799, 11)\n",
      "(5799, 12)\n"
     ]
    },
    {
     "data": {
      "text/html": [
       "<div>\n",
       "<style scoped>\n",
       "    .dataframe tbody tr th:only-of-type {\n",
       "        vertical-align: middle;\n",
       "    }\n",
       "\n",
       "    .dataframe tbody tr th {\n",
       "        vertical-align: top;\n",
       "    }\n",
       "\n",
       "    .dataframe thead th {\n",
       "        text-align: right;\n",
       "    }\n",
       "</style>\n",
       "<table border=\"1\" class=\"dataframe\">\n",
       "  <thead>\n",
       "    <tr style=\"text-align: right;\">\n",
       "      <th></th>\n",
       "      <th>TOTAL_VALUE</th>\n",
       "      <th>LOT_SQFT</th>\n",
       "      <th>YR_BUILT</th>\n",
       "      <th>LIVING_AREA</th>\n",
       "      <th>FLOORS</th>\n",
       "      <th>ROOMS</th>\n",
       "      <th>BEDROOMS</th>\n",
       "      <th>FULL_BATH</th>\n",
       "      <th>HALF_BATH</th>\n",
       "      <th>FIREPLACE</th>\n",
       "      <th>REMODEL_Old</th>\n",
       "      <th>REMODEL_Recent</th>\n",
       "    </tr>\n",
       "  </thead>\n",
       "  <tbody>\n",
       "    <tr>\n",
       "      <th>0</th>\n",
       "      <td>344.2</td>\n",
       "      <td>9965.0</td>\n",
       "      <td>1880</td>\n",
       "      <td>1352.0</td>\n",
       "      <td>2.0</td>\n",
       "      <td>6</td>\n",
       "      <td>3</td>\n",
       "      <td>1</td>\n",
       "      <td>1</td>\n",
       "      <td>0</td>\n",
       "      <td>0</td>\n",
       "      <td>0</td>\n",
       "    </tr>\n",
       "    <tr>\n",
       "      <th>1</th>\n",
       "      <td>412.6</td>\n",
       "      <td>6590.0</td>\n",
       "      <td>1945</td>\n",
       "      <td>1976.0</td>\n",
       "      <td>2.0</td>\n",
       "      <td>10</td>\n",
       "      <td>4</td>\n",
       "      <td>2</td>\n",
       "      <td>1</td>\n",
       "      <td>0</td>\n",
       "      <td>0</td>\n",
       "      <td>1</td>\n",
       "    </tr>\n",
       "    <tr>\n",
       "      <th>2</th>\n",
       "      <td>330.1</td>\n",
       "      <td>7500.0</td>\n",
       "      <td>1890</td>\n",
       "      <td>1371.0</td>\n",
       "      <td>2.0</td>\n",
       "      <td>8</td>\n",
       "      <td>4</td>\n",
       "      <td>1</td>\n",
       "      <td>1</td>\n",
       "      <td>0</td>\n",
       "      <td>0</td>\n",
       "      <td>0</td>\n",
       "    </tr>\n",
       "    <tr>\n",
       "      <th>3</th>\n",
       "      <td>498.6</td>\n",
       "      <td>13773.0</td>\n",
       "      <td>1957</td>\n",
       "      <td>2608.0</td>\n",
       "      <td>1.0</td>\n",
       "      <td>9</td>\n",
       "      <td>5</td>\n",
       "      <td>1</td>\n",
       "      <td>1</td>\n",
       "      <td>1</td>\n",
       "      <td>0</td>\n",
       "      <td>0</td>\n",
       "    </tr>\n",
       "    <tr>\n",
       "      <th>4</th>\n",
       "      <td>331.5</td>\n",
       "      <td>5000.0</td>\n",
       "      <td>1910</td>\n",
       "      <td>1438.0</td>\n",
       "      <td>2.0</td>\n",
       "      <td>7</td>\n",
       "      <td>3</td>\n",
       "      <td>2</td>\n",
       "      <td>0</td>\n",
       "      <td>0</td>\n",
       "      <td>0</td>\n",
       "      <td>0</td>\n",
       "    </tr>\n",
       "  </tbody>\n",
       "</table>\n",
       "</div>"
      ],
      "text/plain": [
       "   TOTAL_VALUE  LOT_SQFT  YR_BUILT  LIVING_AREA  FLOORS  ROOMS  BEDROOMS  \\\n",
       "0        344.2    9965.0      1880       1352.0     2.0      6         3   \n",
       "1        412.6    6590.0      1945       1976.0     2.0     10         4   \n",
       "2        330.1    7500.0      1890       1371.0     2.0      8         4   \n",
       "3        498.6   13773.0      1957       2608.0     1.0      9         5   \n",
       "4        331.5    5000.0      1910       1438.0     2.0      7         3   \n",
       "\n",
       "   FULL_BATH  HALF_BATH  FIREPLACE  REMODEL_Old  REMODEL_Recent  \n",
       "0          1          1          0            0               0  \n",
       "1          2          1          0            0               1  \n",
       "2          1          1          0            0               0  \n",
       "3          1          1          1            0               0  \n",
       "4          2          0          0            0               0  "
      ]
     },
     "execution_count": 67,
     "metadata": {},
     "output_type": "execute_result"
    }
   ],
   "source": [
    "# flag categorical varibales\n",
    "\n",
    "homes_df2.loc[:,'REMODEL'] = homes_df2.loc[:,'REMODEL'].astype('category')\n",
    "print(homes_df2.dtypes)\n",
    "print(homes_df2.shape)\n",
    "#print(homes_df2.head(30))\n",
    "homes_df3 = pd.get_dummies(homes_df2, drop_first = True)\n",
    "print(homes_df3.shape)\n",
    "homes_df3.head()"
   ]
  },
  {
   "cell_type": "markdown",
   "id": "2cff60e6",
   "metadata": {},
   "source": [
    "#### Normalize data"
   ]
  },
  {
   "cell_type": "code",
   "execution_count": 68,
   "id": "bffd8ec5",
   "metadata": {},
   "outputs": [],
   "source": [
    "from sklearn import preprocessing"
   ]
  },
  {
   "cell_type": "code",
   "execution_count": 69,
   "id": "6662c3e1",
   "metadata": {},
   "outputs": [],
   "source": [
    "# create a dataframe with just the predictors, and another with just the values for the response variable\n",
    "# predictor_df should be helpful when you normalize the predictors below, and response_df should be helpful when you partition\n",
    "# your data into train and test sets (hint: you can use \"y = response_df\" when you partition)\n",
    "\n",
    "predictors_df = homes_df3[['LOT_SQFT', 'YR_BUILT', 'LIVING_AREA', 'FLOORS', 'ROOMS','BEDROOMS', 'FULL_BATH', 'HALF_BATH', 'FIREPLACE','REMODEL_Old', 'REMODEL_Recent']]\n",
    "response_df = homes_df3['TOTAL_VALUE']"
   ]
  },
  {
   "cell_type": "code",
   "execution_count": 70,
   "id": "57c06739",
   "metadata": {},
   "outputs": [
    {
     "data": {
      "text/html": [
       "<div>\n",
       "<style scoped>\n",
       "    .dataframe tbody tr th:only-of-type {\n",
       "        vertical-align: middle;\n",
       "    }\n",
       "\n",
       "    .dataframe tbody tr th {\n",
       "        vertical-align: top;\n",
       "    }\n",
       "\n",
       "    .dataframe thead th {\n",
       "        text-align: right;\n",
       "    }\n",
       "</style>\n",
       "<table border=\"1\" class=\"dataframe\">\n",
       "  <thead>\n",
       "    <tr style=\"text-align: right;\">\n",
       "      <th></th>\n",
       "      <th>LOT_SQFT</th>\n",
       "      <th>YR_BUILT</th>\n",
       "      <th>LIVING_AREA</th>\n",
       "      <th>FLOORS</th>\n",
       "      <th>ROOMS</th>\n",
       "      <th>BEDROOMS</th>\n",
       "      <th>FULL_BATH</th>\n",
       "      <th>HALF_BATH</th>\n",
       "      <th>FIREPLACE</th>\n",
       "      <th>REMODEL_Old</th>\n",
       "      <th>REMODEL_Recent</th>\n",
       "    </tr>\n",
       "  </thead>\n",
       "  <tbody>\n",
       "    <tr>\n",
       "      <th>0</th>\n",
       "      <td>1.380770</td>\n",
       "      <td>-1.576306</td>\n",
       "      <td>-0.564957</td>\n",
       "      <td>0.710481</td>\n",
       "      <td>-0.692386</td>\n",
       "      <td>-0.272264</td>\n",
       "      <td>-0.568257</td>\n",
       "      <td>0.722730</td>\n",
       "      <td>-1.309419</td>\n",
       "      <td>-0.333684</td>\n",
       "      <td>-0.421262</td>\n",
       "    </tr>\n",
       "    <tr>\n",
       "      <th>1</th>\n",
       "      <td>0.116790</td>\n",
       "      <td>0.229535</td>\n",
       "      <td>0.589695</td>\n",
       "      <td>0.710481</td>\n",
       "      <td>2.090597</td>\n",
       "      <td>0.909517</td>\n",
       "      <td>1.347628</td>\n",
       "      <td>0.722730</td>\n",
       "      <td>-1.309419</td>\n",
       "      <td>-0.333684</td>\n",
       "      <td>2.373818</td>\n",
       "    </tr>\n",
       "    <tr>\n",
       "      <th>2</th>\n",
       "      <td>0.457596</td>\n",
       "      <td>-1.298484</td>\n",
       "      <td>-0.529799</td>\n",
       "      <td>0.710481</td>\n",
       "      <td>0.699105</td>\n",
       "      <td>0.909517</td>\n",
       "      <td>-0.568257</td>\n",
       "      <td>0.722730</td>\n",
       "      <td>-1.309419</td>\n",
       "      <td>-0.333684</td>\n",
       "      <td>-0.421262</td>\n",
       "    </tr>\n",
       "    <tr>\n",
       "      <th>3</th>\n",
       "      <td>2.806915</td>\n",
       "      <td>0.562921</td>\n",
       "      <td>1.759149</td>\n",
       "      <td>-1.537857</td>\n",
       "      <td>1.394851</td>\n",
       "      <td>2.091298</td>\n",
       "      <td>-0.568257</td>\n",
       "      <td>0.722730</td>\n",
       "      <td>0.460173</td>\n",
       "      <td>-0.333684</td>\n",
       "      <td>-0.421262</td>\n",
       "    </tr>\n",
       "    <tr>\n",
       "      <th>4</th>\n",
       "      <td>-0.478685</td>\n",
       "      <td>-0.742841</td>\n",
       "      <td>-0.405822</td>\n",
       "      <td>0.710481</td>\n",
       "      <td>0.003359</td>\n",
       "      <td>-0.272264</td>\n",
       "      <td>1.347628</td>\n",
       "      <td>-1.150811</td>\n",
       "      <td>-1.309419</td>\n",
       "      <td>-0.333684</td>\n",
       "      <td>-0.421262</td>\n",
       "    </tr>\n",
       "  </tbody>\n",
       "</table>\n",
       "</div>"
      ],
      "text/plain": [
       "   LOT_SQFT  YR_BUILT  LIVING_AREA    FLOORS     ROOMS  BEDROOMS  FULL_BATH  \\\n",
       "0  1.380770 -1.576306    -0.564957  0.710481 -0.692386 -0.272264  -0.568257   \n",
       "1  0.116790  0.229535     0.589695  0.710481  2.090597  0.909517   1.347628   \n",
       "2  0.457596 -1.298484    -0.529799  0.710481  0.699105  0.909517  -0.568257   \n",
       "3  2.806915  0.562921     1.759149 -1.537857  1.394851  2.091298  -0.568257   \n",
       "4 -0.478685 -0.742841    -0.405822  0.710481  0.003359 -0.272264   1.347628   \n",
       "\n",
       "   HALF_BATH  FIREPLACE  REMODEL_Old  REMODEL_Recent  \n",
       "0   0.722730  -1.309419    -0.333684       -0.421262  \n",
       "1   0.722730  -1.309419    -0.333684        2.373818  \n",
       "2   0.722730  -1.309419    -0.333684       -0.421262  \n",
       "3   0.722730   0.460173    -0.333684       -0.421262  \n",
       "4  -1.150811  -1.309419    -0.333684       -0.421262  "
      ]
     },
     "execution_count": 70,
     "metadata": {},
     "output_type": "execute_result"
    }
   ],
   "source": [
    "# normalize predictors using standardization (i.e., force all predictors to have mean = 0  and standard deviation = 1)\n",
    "z_norm = preprocessing.StandardScaler()\n",
    "predictor_df_normalized = z_norm.fit_transform(predictors_df)\n",
    "predictor_df_normalized = pd.DataFrame(predictor_df_normalized, columns = predictors_df.columns)\n",
    "predictor_df_normalized.head(5)"
   ]
  },
  {
   "cell_type": "markdown",
   "id": "bc6213ff",
   "metadata": {},
   "source": [
    "## Part 3: Multiple Linear Regression"
   ]
  },
  {
   "cell_type": "markdown",
   "id": "1ac0efc4",
   "metadata": {},
   "source": [
    "### First, train and test the multiple linear regression model with sklearn"
   ]
  },
  {
   "cell_type": "code",
   "execution_count": 71,
   "id": "0cfd863e",
   "metadata": {},
   "outputs": [],
   "source": [
    "from sklearn.model_selection import train_test_split\n",
    "from sklearn.linear_model import LinearRegression\n",
    "\n",
    "from dmba import regressionSummary, adjusted_r2_score  # using the dmba package for perforance evaluation"
   ]
  },
  {
   "cell_type": "code",
   "execution_count": 72,
   "id": "b4b5d3f9",
   "metadata": {},
   "outputs": [],
   "source": [
    "# partition data into train and test sets\n",
    "X = predictor_df_normalized\n",
    "y = response_df\n",
    "train_X, test_X, train_y, test_y = train_test_split(X, y, test_size=0.4, random_state=1)\n"
   ]
  },
  {
   "cell_type": "code",
   "execution_count": 73,
   "id": "b6d9106c",
   "metadata": {},
   "outputs": [],
   "source": [
    "# train the LR model\n",
    "linear_model = LinearRegression()\n",
    "linear_model = linear_model.fit(train_X, train_y)\n"
   ]
  },
  {
   "cell_type": "code",
   "execution_count": 74,
   "id": "a510bea1",
   "metadata": {},
   "outputs": [
    {
     "name": "stdout",
     "output_type": "stream",
     "text": [
      "intercept  392.6693852882081\n",
      "         Predictor  coefficient\n",
      "0         LOT_SQFT    23.698203\n",
      "1         YR_BUILT    -0.249675\n",
      "2      LIVING_AREA    51.927471\n",
      "3           FLOORS    14.210192\n",
      "4            ROOMS     1.349469\n",
      "5         BEDROOMS    -0.548267\n",
      "6        FULL_BATH     9.320577\n",
      "7        HALF_BATH    10.581533\n",
      "8        FIREPLACE    11.154739\n",
      "9      REMODEL_Old     2.224470\n",
      "10  REMODEL_Recent     9.680092\n"
     ]
    }
   ],
   "source": [
    "# print the coefficients\n",
    "print('intercept ', linear_model.intercept_)\n",
    "print(pd.DataFrame({'Predictor': X.columns, 'coefficient': linear_model.coef_}))"
   ]
  },
  {
   "cell_type": "code",
   "execution_count": 75,
   "id": "992dc1de",
   "metadata": {},
   "outputs": [
    {
     "name": "stdout",
     "output_type": "stream",
     "text": [
      "\n",
      "Regression statistics\n",
      "\n",
      "                      Mean Error (ME) : 0.0000\n",
      "       Root Mean Squared Error (RMSE) : 44.5509\n",
      "            Mean Absolute Error (MAE) : 33.8197\n",
      "          Mean Percentage Error (MPE) : -1.1922\n",
      "Mean Absolute Percentage Error (MAPE) : 8.8074\n",
      "0.7904685986983031\n"
     ]
    }
   ],
   "source": [
    "# print performance metrics on training set using regressionSummary()\n",
    "predicted_y_training = linear_model.predict(train_X)\n",
    "regressionSummary(train_y, predicted_y_training)\n",
    "print(adjusted_r2_score(train_y, predicted_y_training, linear_model))"
   ]
  },
  {
   "cell_type": "code",
   "execution_count": 76,
   "id": "9c1d6700",
   "metadata": {},
   "outputs": [
    {
     "data": {
      "text/html": [
       "<div>\n",
       "<style scoped>\n",
       "    .dataframe tbody tr th:only-of-type {\n",
       "        vertical-align: middle;\n",
       "    }\n",
       "\n",
       "    .dataframe tbody tr th {\n",
       "        vertical-align: top;\n",
       "    }\n",
       "\n",
       "    .dataframe thead th {\n",
       "        text-align: right;\n",
       "    }\n",
       "</style>\n",
       "<table border=\"1\" class=\"dataframe\">\n",
       "  <thead>\n",
       "    <tr style=\"text-align: right;\">\n",
       "      <th></th>\n",
       "      <th>Predicted</th>\n",
       "      <th>Actual</th>\n",
       "      <th>Residual</th>\n",
       "    </tr>\n",
       "  </thead>\n",
       "  <tbody>\n",
       "    <tr>\n",
       "      <th>1822</th>\n",
       "      <td>328.798632</td>\n",
       "      <td>291.7</td>\n",
       "      <td>-37.098632</td>\n",
       "    </tr>\n",
       "    <tr>\n",
       "      <th>1998</th>\n",
       "      <td>378.738919</td>\n",
       "      <td>361.1</td>\n",
       "      <td>-17.638919</td>\n",
       "    </tr>\n",
       "    <tr>\n",
       "      <th>5124</th>\n",
       "      <td>385.281294</td>\n",
       "      <td>371.6</td>\n",
       "      <td>-13.681294</td>\n",
       "    </tr>\n",
       "    <tr>\n",
       "      <th>808</th>\n",
       "      <td>282.139296</td>\n",
       "      <td>215.5</td>\n",
       "      <td>-66.639296</td>\n",
       "    </tr>\n",
       "    <tr>\n",
       "      <th>4032</th>\n",
       "      <td>370.853512</td>\n",
       "      <td>325.7</td>\n",
       "      <td>-45.153512</td>\n",
       "    </tr>\n",
       "  </tbody>\n",
       "</table>\n",
       "</div>"
      ],
      "text/plain": [
       "       Predicted  Actual   Residual\n",
       "1822  328.798632   291.7 -37.098632\n",
       "1998  378.738919   361.1 -17.638919\n",
       "5124  385.281294   371.6 -13.681294\n",
       "808   282.139296   215.5 -66.639296\n",
       "4032  370.853512   325.7 -45.153512"
      ]
     },
     "execution_count": 76,
     "metadata": {},
     "output_type": "execute_result"
    }
   ],
   "source": [
    "# now, deploy the model on the test data\n",
    "predicted_y_test = linear_model.predict(test_X) # these are the y_hat values\n",
    "result = pd.DataFrame({'Predicted': predicted_y_test, 'Actual': test_y,\n",
    "                       'Residual': test_y - predicted_y_test})\n",
    "result.head()"
   ]
  },
  {
   "cell_type": "code",
   "execution_count": 77,
   "id": "1d74d399",
   "metadata": {},
   "outputs": [
    {
     "name": "stdout",
     "output_type": "stream",
     "text": [
      "\n",
      "Regression statistics\n",
      "\n",
      "                      Mean Error (ME) : 0.1461\n",
      "       Root Mean Squared Error (RMSE) : 44.3002\n",
      "            Mean Absolute Error (MAE) : 33.4362\n",
      "          Mean Percentage Error (MPE) : -1.2920\n",
      "Mean Absolute Percentage Error (MAPE) : 8.7690\n",
      "0.8092056662919968\n"
     ]
    }
   ],
   "source": [
    "# how did our model perform in prediction? Use regressionSummary()\n",
    "regressionSummary(test_y,predicted_y_test)\n",
    "print(adjusted_r2_score(test_y, predicted_y_test, linear_model))"
   ]
  },
  {
   "cell_type": "code",
   "execution_count": 78,
   "id": "91416207",
   "metadata": {},
   "outputs": [
    {
     "data": {
      "image/png": "[encoded data removed]",
      "text/plain": [
       "<Figure size 432x288 with 1 Axes>"
      ]
     },
     "metadata": {
      "needs_background": "light"
     },
     "output_type": "display_data"
    }
   ],
   "source": [
    "# let's see if our residuals are normally distributed (use matplotlib for this)\n",
    "error = test_y - predicted_y_test\n",
    "\n",
    "plt.hist(error, bins = 75)\n",
    "plt.xlim([-220,220])\n",
    "plt.tight_layout()\n",
    "plt.show()"
   ]
  },
  {
   "cell_type": "markdown",
   "id": "f90b9c49",
   "metadata": {},
   "source": [
    "### Now, train and test the model with statsmodels"
   ]
  },
  {
   "cell_type": "code",
   "execution_count": 79,
   "id": "bf6e8cdd",
   "metadata": {},
   "outputs": [],
   "source": [
    "import statsmodels.api as sm"
   ]
  },
  {
   "cell_type": "code",
   "execution_count": 80,
   "id": "023041bb",
   "metadata": {},
   "outputs": [],
   "source": [
    "# add constant to the training and testing data (the predictors) and train model\n",
    "train_X = sm.add_constant(train_X)\n",
    "test_X = sm.add_constant(test_X)\n",
    "\n",
    "linear_model2 = sm.OLS(train_y, train_X).fit()\n"
   ]
  },
  {
   "cell_type": "code",
   "execution_count": 81,
   "id": "40562b56",
   "metadata": {},
   "outputs": [
    {
     "data": {
      "text/plain": [
       "const             392.669385\n",
       "LOT_SQFT           23.698203\n",
       "YR_BUILT           -0.249675\n",
       "LIVING_AREA        51.927471\n",
       "FLOORS             14.210192\n",
       "ROOMS               1.349469\n",
       "BEDROOMS           -0.548267\n",
       "FULL_BATH           9.320577\n",
       "HALF_BATH          10.581533\n",
       "FIREPLACE          11.154739\n",
       "REMODEL_Old         2.224470\n",
       "REMODEL_Recent      9.680092\n",
       "dtype: float64"
      ]
     },
     "execution_count": 81,
     "metadata": {},
     "output_type": "execute_result"
    }
   ],
   "source": [
    "# print the coefficients\n",
    "linear_model2.params"
   ]
  },
  {
   "cell_type": "code",
   "execution_count": 82,
   "id": "84708fa8",
   "metadata": {},
   "outputs": [
    {
     "name": "stdout",
     "output_type": "stream",
     "text": [
      "\n",
      "Regression statistics\n",
      "\n",
      "                      Mean Error (ME) : 0.0000\n",
      "       Root Mean Squared Error (RMSE) : 44.5509\n",
      "            Mean Absolute Error (MAE) : 33.8197\n",
      "          Mean Percentage Error (MPE) : -1.1922\n",
      "Mean Absolute Percentage Error (MAPE) : 8.8074\n"
     ]
    }
   ],
   "source": [
    "# now, look at the training performance\n",
    "predicted_y_training2 = linear_model2.predict(train_X)\n",
    "regressionSummary(train_y, predicted_y_training2)"
   ]
  },
  {
   "cell_type": "code",
   "execution_count": 83,
   "id": "6122e497",
   "metadata": {},
   "outputs": [
    {
     "name": "stdout",
     "output_type": "stream",
     "text": [
      "\n",
      "Regression statistics\n",
      "\n",
      "                      Mean Error (ME) : 0.1461\n",
      "       Root Mean Squared Error (RMSE) : 44.3002\n",
      "            Mean Absolute Error (MAE) : 33.4362\n",
      "          Mean Percentage Error (MPE) : -1.2920\n",
      "Mean Absolute Percentage Error (MAPE) : 8.7690\n"
     ]
    }
   ],
   "source": [
    "# now, deploy the model on the test data\n",
    "predicted_y_test2 = linear_model2.predict(test_X)\n",
    "regressionSummary(test_y, predicted_y_test2)"
   ]
  },
  {
   "cell_type": "code",
   "execution_count": 84,
   "id": "655d2dc1",
   "metadata": {},
   "outputs": [
    {
     "name": "stdout",
     "output_type": "stream",
     "text": [
      "\n",
      "Regression statistics\n",
      "\n",
      "                      Mean Error (ME) : 0.1461\n",
      "       Root Mean Squared Error (RMSE) : 44.3002\n",
      "            Mean Absolute Error (MAE) : 33.4362\n",
      "          Mean Percentage Error (MPE) : -1.2920\n",
      "Mean Absolute Percentage Error (MAPE) : 8.7690\n"
     ]
    }
   ],
   "source": [
    "# look at the testing performance\n",
    "regressionSummary(test_y,predicted_y_test)"
   ]
  },
  {
   "cell_type": "code",
   "execution_count": 85,
   "id": "b732afcc",
   "metadata": {},
   "outputs": [
    {
     "data": {
      "text/plain": [
       "const             0.0000\n",
       "LOT_SQFT          0.0000\n",
       "YR_BUILT          0.7181\n",
       "LIVING_AREA       0.0000\n",
       "FLOORS            0.0000\n",
       "ROOMS             0.2817\n",
       "BEDROOMS          0.6292\n",
       "FULL_BATH         0.0000\n",
       "HALF_BATH         0.0000\n",
       "FIREPLACE         0.0000\n",
       "REMODEL_Old       0.0035\n",
       "REMODEL_Recent    0.0000\n",
       "dtype: float64"
      ]
     },
     "execution_count": 85,
     "metadata": {},
     "output_type": "execute_result"
    }
   ],
   "source": [
    "# look at the p-values\n",
    "linear_model2.pvalues.round(4)"
   ]
  },
  {
   "cell_type": "code",
   "execution_count": 86,
   "id": "8353d0e3",
   "metadata": {},
   "outputs": [],
   "source": [
    "# drop the variables that are not significant (i.e., p>0.05)\n",
    "train_X = train_X.drop([\"YR_BUILT\",\"ROOMS\",\"BEDROOMS\"], axis = 1)\n",
    "test_X = test_X.drop([\"YR_BUILT\",\"ROOMS\",\"BEDROOMS\"], axis = 1)"
   ]
  },
  {
   "cell_type": "code",
   "execution_count": 87,
   "id": "79db0677",
   "metadata": {},
   "outputs": [
    {
     "data": {
      "text/plain": [
       "const             392.681338\n",
       "LOT_SQFT           23.727571\n",
       "LIVING_AREA        52.485388\n",
       "FLOORS             14.318613\n",
       "FULL_BATH           9.381534\n",
       "HALF_BATH          10.616834\n",
       "FIREPLACE          11.146626\n",
       "REMODEL_Old         2.252933\n",
       "REMODEL_Recent      9.726439\n",
       "dtype: float64"
      ]
     },
     "execution_count": 87,
     "metadata": {},
     "output_type": "execute_result"
    }
   ],
   "source": [
    "# train the new model and print the performance metrics for training\n",
    "linear_model3 = sm.OLS(train_y, train_X).fit()\n",
    "linear_model3.params"
   ]
  },
  {
   "cell_type": "code",
   "execution_count": 88,
   "id": "67acfa41",
   "metadata": {},
   "outputs": [
    {
     "name": "stdout",
     "output_type": "stream",
     "text": [
      "\n",
      "Regression statistics\n",
      "\n",
      "                      Mean Error (ME) : 0.1162\n",
      "       Root Mean Squared Error (RMSE) : 44.3082\n",
      "            Mean Absolute Error (MAE) : 33.4630\n",
      "          Mean Percentage Error (MPE) : -1.3004\n",
      "Mean Absolute Percentage Error (MAPE) : 8.7816\n"
     ]
    }
   ],
   "source": [
    "# deploy the model on the test data, and print the performance metrics for testing\n",
    "\n",
    "predicted_y_test3 = linear_model3.predict(test_X)\n",
    "regressionSummary(test_y, predicted_y_test3)"
   ]
  },
  {
   "cell_type": "code",
   "execution_count": null,
   "id": "89194506",
   "metadata": {},
   "outputs": [],
   "source": []
  },
  {
   "cell_type": "code",
   "execution_count": null,
   "id": "c8a60a42",
   "metadata": {},
   "outputs": [],
   "source": []
  },
  {
   "cell_type": "code",
   "execution_count": null,
   "id": "8256452b",
   "metadata": {},
   "outputs": [],
   "source": []
  },
  {
   "cell_type": "code",
   "execution_count": null,
   "id": "2847b461",
   "metadata": {},
   "outputs": [],
   "source": []
  }
 ],
 "metadata": {
  "kernelspec": {
   "display_name": "Python 3 (ipykernel)",
   "language": "python",
   "name": "python3"
  },
  "language_info": {
   "codemirror_mode": {
    "name": "ipython",
    "version": 3
   },
   "file_extension": ".py",
   "mimetype": "text/x-python",
   "name": "python",
   "nbconvert_exporter": "python",
   "pygments_lexer": "ipython3",
   "version": "3.9.12"
  }
 },
 "nbformat": 4,
 "nbformat_minor": 5
}
